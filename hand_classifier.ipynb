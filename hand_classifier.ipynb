{
 "cells": [
  {
   "cell_type": "code",
   "execution_count": 1,
   "metadata": {},
   "outputs": [
    {
     "name": "stderr",
     "output_type": "stream",
     "text": [
      "/home/naveen/anaconda3/lib/python3.6/site-packages/h5py/__init__.py:36: FutureWarning: Conversion of the second argument of issubdtype from `float` to `np.floating` is deprecated. In future, it will be treated as `np.float64 == np.dtype(float).type`.\n",
      "  from ._conv import register_converters as _register_converters\n",
      "Using TensorFlow backend.\n"
     ]
    }
   ],
   "source": [
    "# CNN for hand classification\n",
    "import numpy as np\n",
    "from keras.datasets import mnist\n",
    "from keras.models import Sequential\n",
    "from keras.layers import Dense\n",
    "from keras.layers import Dropout\n",
    "from keras.layers import Flatten\n",
    "from keras.layers.convolutional import Conv2D\n",
    "from keras.layers.convolutional import MaxPooling2D\n",
    "from keras.utils import np_utils\n",
    "from keras.callbacks import ReduceLROnPlateau, EarlyStopping, ModelCheckpoint\n",
    "from keras import backend as K\n",
    "from keras.preprocessing.image import ImageDataGenerator\n",
    "K.set_image_dim_ordering('tf')\n",
    "# Fixing random seed for reproducibility\n",
    "seed = 7\n",
    "np.random.seed(seed)"
   ]
  },
  {
   "cell_type": "code",
   "execution_count": 2,
   "metadata": {},
   "outputs": [],
   "source": [
    "# Defining convolution neural network\n",
    "def cnn_model():\n",
    "\t# Creating model\n",
    "\tmodel = Sequential()\n",
    "\tmodel.add(Conv2D(30, (7, 7), input_shape=(200, 200, 3), activation='relu'))\n",
    "\tmodel.add(MaxPooling2D(pool_size=(2, 2)))\n",
    "\tmodel.add(Conv2D(30, (5, 5), input_shape=(200, 200, 3), activation='relu'))\n",
    "\tmodel.add(MaxPooling2D(pool_size=(2, 2)))\n",
    "\tmodel.add(Dropout(0.3))\n",
    "\tmodel.add(Conv2D(15, (5, 5), activation='relu'))\n",
    "\tmodel.add(MaxPooling2D(pool_size=(2, 2)))\n",
    "\tmodel.add(Conv2D(15, (3, 3), activation='relu'))\n",
    "\tmodel.add(MaxPooling2D(pool_size=(2, 2)))\n",
    "\tmodel.add(Dropout(0.2))\n",
    "\tmodel.add(Flatten())\n",
    "\tmodel.add(Dense(128, activation='relu'))\n",
    "\tmodel.add(Dense(50, activation='relu'))\n",
    "\tmodel.add(Dense(3, activation='softmax'))\n",
    "\t# Compiling model\n",
    "\tmodel.compile(loss='categorical_crossentropy', optimizer='adam', metrics=['accuracy'])\n",
    "\treturn model"
   ]
  },
  {
   "cell_type": "code",
   "execution_count": 3,
   "metadata": {},
   "outputs": [
    {
     "name": "stdout",
     "output_type": "stream",
     "text": [
      "Found 2750 images belonging to 3 classes.\n",
      "Found 1621 images belonging to 3 classes.\n"
     ]
    }
   ],
   "source": [
    "# Using ImageDataGenerator to augment input data\n",
    "train_datagen = ImageDataGenerator(\n",
    "        width_shift_range=0.1,\n",
    "        height_shift_range=0.1,\n",
    "        rotation_range=70,\n",
    "        rescale=1./255,\n",
    "        shear_range=0.2,\n",
    "        zoom_range=0.2,\n",
    "        horizontal_flip=True,\n",
    "        vertical_flip=True)\n",
    "\n",
    "test_datagen = ImageDataGenerator(rescale=1./255)\n",
    "\n",
    "# Creating generators for input and validation data\n",
    "train_generator = train_datagen.flow_from_directory(\n",
    "        'data/train2.0',\n",
    "        target_size=(200, 200),\n",
    "        batch_size=32,\n",
    "        class_mode='categorical')\n",
    "\n",
    "validation_generator = test_datagen.flow_from_directory(\n",
    "        'data/validation2.0',\n",
    "        target_size=(200, 200),\n",
    "        batch_size=32,\n",
    "        class_mode='categorical')"
   ]
  },
  {
   "cell_type": "code",
   "execution_count": 4,
   "metadata": {},
   "outputs": [],
   "source": [
    "# Creating list of keras callbacks\n",
    "callbacks = [ModelCheckpoint('bestmodel.h5', monitor='val_loss', save_best_only=True)]"
   ]
  },
  {
   "cell_type": "code",
   "execution_count": 5,
   "metadata": {
    "scrolled": false
   },
   "outputs": [
    {
     "name": "stdout",
     "output_type": "stream",
     "text": [
      "Epoch 1/50\n",
      "200/200 [==============================] - 87s 437ms/step - loss: 0.8341 - acc: 0.5740 - val_loss: 0.6489 - val_acc: 0.6613\n",
      "Epoch 2/50\n",
      "200/200 [==============================] - 82s 408ms/step - loss: 0.6737 - acc: 0.6814 - val_loss: 0.5884 - val_acc: 0.7027\n",
      "Epoch 3/50\n",
      "200/200 [==============================] - 82s 411ms/step - loss: 0.6286 - acc: 0.7097 - val_loss: 0.5322 - val_acc: 0.7896\n",
      "Epoch 4/50\n",
      "200/200 [==============================] - 85s 423ms/step - loss: 0.5643 - acc: 0.7509 - val_loss: 0.4904 - val_acc: 0.8032\n",
      "Epoch 5/50\n",
      "200/200 [==============================] - 82s 412ms/step - loss: 0.5432 - acc: 0.7657 - val_loss: 0.5342 - val_acc: 0.7680\n",
      "Epoch 6/50\n",
      "200/200 [==============================] - 83s 413ms/step - loss: 0.4769 - acc: 0.8015 - val_loss: 0.4732 - val_acc: 0.8075\n",
      "Epoch 7/50\n",
      "200/200 [==============================] - 83s 417ms/step - loss: 0.4672 - acc: 0.8058 - val_loss: 0.4001 - val_acc: 0.8328\n",
      "Epoch 8/50\n",
      "200/200 [==============================] - 84s 418ms/step - loss: 0.4440 - acc: 0.8193 - val_loss: 0.4711 - val_acc: 0.7995\n",
      "Epoch 9/50\n",
      "200/200 [==============================] - 85s 426ms/step - loss: 0.4237 - acc: 0.8297 - val_loss: 0.3703 - val_acc: 0.8489\n",
      "Epoch 10/50\n",
      "200/200 [==============================] - 84s 420ms/step - loss: 0.3551 - acc: 0.8523 - val_loss: 0.3244 - val_acc: 0.8655\n",
      "Epoch 11/50\n",
      "200/200 [==============================] - 83s 413ms/step - loss: 0.3898 - acc: 0.8458 - val_loss: 0.3665 - val_acc: 0.8532\n",
      "Epoch 12/50\n",
      "200/200 [==============================] - 83s 416ms/step - loss: 0.3112 - acc: 0.8757 - val_loss: 0.4085 - val_acc: 0.8186\n",
      "Epoch 13/50\n",
      "200/200 [==============================] - 84s 420ms/step - loss: 0.2762 - acc: 0.8912 - val_loss: 0.2737 - val_acc: 0.8945\n",
      "Epoch 14/50\n",
      "200/200 [==============================] - 83s 413ms/step - loss: 0.2945 - acc: 0.8840 - val_loss: 0.2600 - val_acc: 0.8933\n",
      "Epoch 15/50\n",
      "200/200 [==============================] - 87s 434ms/step - loss: 0.2868 - acc: 0.8878 - val_loss: 0.2586 - val_acc: 0.8964\n",
      "Epoch 16/50\n",
      "200/200 [==============================] - 85s 423ms/step - loss: 0.2579 - acc: 0.9036 - val_loss: 0.2589 - val_acc: 0.8994\n",
      "Epoch 17/50\n",
      "200/200 [==============================] - 84s 421ms/step - loss: 0.2331 - acc: 0.9052 - val_loss: 0.2383 - val_acc: 0.9105\n",
      "Epoch 18/50\n",
      "200/200 [==============================] - 84s 420ms/step - loss: 0.2284 - acc: 0.9117 - val_loss: 0.2156 - val_acc: 0.9223\n",
      "Epoch 19/50\n",
      "200/200 [==============================] - 86s 428ms/step - loss: 0.2217 - acc: 0.9111 - val_loss: 0.2375 - val_acc: 0.9038\n",
      "Epoch 20/50\n",
      "200/200 [==============================] - 83s 413ms/step - loss: 0.2048 - acc: 0.9240 - val_loss: 0.1948 - val_acc: 0.9247\n",
      "Epoch 21/50\n",
      "200/200 [==============================] - 83s 416ms/step - loss: 0.2134 - acc: 0.9168 - val_loss: 0.2725 - val_acc: 0.8933\n",
      "Epoch 22/50\n",
      "200/200 [==============================] - 85s 426ms/step - loss: 0.2111 - acc: 0.9173 - val_loss: 0.1643 - val_acc: 0.9383\n",
      "Epoch 23/50\n",
      "200/200 [==============================] - 84s 419ms/step - loss: 0.1949 - acc: 0.9239 - val_loss: 0.2760 - val_acc: 0.9044\n",
      "Epoch 24/50\n",
      "200/200 [==============================] - 83s 417ms/step - loss: 0.1814 - acc: 0.9300 - val_loss: 0.1726 - val_acc: 0.9439\n",
      "Epoch 25/50\n",
      "200/200 [==============================] - 92s 460ms/step - loss: 0.1821 - acc: 0.9263 - val_loss: 0.1614 - val_acc: 0.9445\n",
      "Epoch 26/50\n",
      "200/200 [==============================] - 84s 419ms/step - loss: 0.1778 - acc: 0.9310 - val_loss: 0.1974 - val_acc: 0.9266\n",
      "Epoch 27/50\n",
      "200/200 [==============================] - 83s 413ms/step - loss: 0.1699 - acc: 0.9331 - val_loss: 0.2037 - val_acc: 0.9247\n",
      "Epoch 28/50\n",
      "200/200 [==============================] - 85s 424ms/step - loss: 0.1793 - acc: 0.9307 - val_loss: 0.1938 - val_acc: 0.9321\n",
      "Epoch 29/50\n",
      "200/200 [==============================] - 83s 414ms/step - loss: 0.1659 - acc: 0.9379 - val_loss: 0.1519 - val_acc: 0.9463\n",
      "Epoch 30/50\n",
      "200/200 [==============================] - 83s 415ms/step - loss: 0.1494 - acc: 0.9448 - val_loss: 0.1413 - val_acc: 0.9494\n",
      "Epoch 31/50\n",
      "200/200 [==============================] - 85s 424ms/step - loss: 0.1697 - acc: 0.9343 - val_loss: 0.1944 - val_acc: 0.9321\n",
      "Epoch 32/50\n",
      "200/200 [==============================] - 84s 418ms/step - loss: 0.1431 - acc: 0.9446 - val_loss: 0.1334 - val_acc: 0.9519\n",
      "Epoch 33/50\n",
      "200/200 [==============================] - 83s 414ms/step - loss: 0.1659 - acc: 0.9370 - val_loss: 0.1284 - val_acc: 0.9574\n",
      "Epoch 34/50\n",
      "200/200 [==============================] - 84s 418ms/step - loss: 0.1706 - acc: 0.9343 - val_loss: 0.1732 - val_acc: 0.9371\n",
      "Epoch 35/50\n",
      "200/200 [==============================] - 82s 411ms/step - loss: 0.1494 - acc: 0.9439 - val_loss: 0.1839 - val_acc: 0.9358\n",
      "Epoch 36/50\n",
      "200/200 [==============================] - 83s 416ms/step - loss: 0.1532 - acc: 0.9403 - val_loss: 0.1273 - val_acc: 0.9550\n",
      "Epoch 37/50\n",
      "200/200 [==============================] - 84s 418ms/step - loss: 0.1672 - acc: 0.9370 - val_loss: 0.2132 - val_acc: 0.9321\n",
      "Epoch 38/50\n",
      "200/200 [==============================] - 82s 411ms/step - loss: 0.1351 - acc: 0.9506 - val_loss: 0.1965 - val_acc: 0.9414\n",
      "Epoch 39/50\n",
      "200/200 [==============================] - 83s 417ms/step - loss: 0.1485 - acc: 0.9459 - val_loss: 0.1979 - val_acc: 0.9321\n",
      "Epoch 40/50\n",
      "200/200 [==============================] - 84s 421ms/step - loss: 0.1433 - acc: 0.9471 - val_loss: 0.1594 - val_acc: 0.9519\n",
      "Epoch 41/50\n",
      "200/200 [==============================] - 83s 413ms/step - loss: 0.1351 - acc: 0.9483 - val_loss: 0.3626 - val_acc: 0.8933\n",
      "Epoch 42/50\n",
      "200/200 [==============================] - 82s 412ms/step - loss: 0.1265 - acc: 0.9535 - val_loss: 0.1513 - val_acc: 0.9543\n",
      "Epoch 43/50\n",
      "200/200 [==============================] - 84s 420ms/step - loss: 0.1445 - acc: 0.9498 - val_loss: 0.1276 - val_acc: 0.9537\n",
      "Epoch 44/50\n",
      "200/200 [==============================] - 84s 418ms/step - loss: 0.1174 - acc: 0.9542 - val_loss: 0.1456 - val_acc: 0.9519\n",
      "Epoch 45/50\n",
      "200/200 [==============================] - 83s 417ms/step - loss: 0.1174 - acc: 0.9584 - val_loss: 0.1747 - val_acc: 0.9414\n",
      "Epoch 46/50\n",
      "200/200 [==============================] - 83s 415ms/step - loss: 0.1310 - acc: 0.9517 - val_loss: 0.1131 - val_acc: 0.9679\n",
      "Epoch 47/50\n",
      "200/200 [==============================] - 85s 426ms/step - loss: 0.1207 - acc: 0.9572 - val_loss: 0.1099 - val_acc: 0.9648\n",
      "Epoch 48/50\n",
      "200/200 [==============================] - 83s 417ms/step - loss: 0.1246 - acc: 0.9547 - val_loss: 0.0989 - val_acc: 0.9642\n",
      "Epoch 49/50\n",
      "200/200 [==============================] - 84s 419ms/step - loss: 0.1411 - acc: 0.9507 - val_loss: 0.1855 - val_acc: 0.9346\n",
      "Epoch 50/50\n",
      "200/200 [==============================] - 84s 420ms/step - loss: 0.1309 - acc: 0.9522 - val_loss: 0.1099 - val_acc: 0.9685\n"
     ]
    },
    {
     "data": {
      "text/plain": [
       "<keras.callbacks.History at 0x7f55ff770ba8>"
      ]
     },
     "execution_count": 5,
     "metadata": {},
     "output_type": "execute_result"
    }
   ],
   "source": [
    "# Fitting model\n",
    "model = cnn_model()\n",
    "model.fit_generator(\n",
    "        train_generator,\n",
    "        epochs=50,\n",
    "        validation_data=validation_generator,\n",
    "        steps_per_epoch = 200)"
   ]
  },
  {
   "cell_type": "code",
   "execution_count": null,
   "metadata": {},
   "outputs": [],
   "source": []
  }
 ],
 "metadata": {
  "kernelspec": {
   "display_name": "Python 3",
   "language": "python",
   "name": "python3"
  },
  "language_info": {
   "codemirror_mode": {
    "name": "ipython",
    "version": 3
   },
   "file_extension": ".py",
   "mimetype": "text/x-python",
   "name": "python",
   "nbconvert_exporter": "python",
   "pygments_lexer": "ipython3",
   "version": "3.6.4"
  }
 },
 "nbformat": 4,
 "nbformat_minor": 2
}
