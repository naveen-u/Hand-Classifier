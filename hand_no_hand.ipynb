{
 "cells": [
  {
   "cell_type": "code",
   "execution_count": 1,
   "metadata": {},
   "outputs": [
    {
     "name": "stderr",
     "output_type": "stream",
     "text": [
      "/home/naveen/anaconda3/lib/python3.6/site-packages/h5py/__init__.py:36: FutureWarning: Conversion of the second argument of issubdtype from `float` to `np.floating` is deprecated. In future, it will be treated as `np.float64 == np.dtype(float).type`.\n",
      "  from ._conv import register_converters as _register_converters\n",
      "Using TensorFlow backend.\n"
     ]
    }
   ],
   "source": [
    "# CNN for Hand classification\n",
    "import numpy as np\n",
    "from keras.datasets import mnist\n",
    "from keras.models import Sequential\n",
    "from keras.layers import Dense\n",
    "from keras.layers import Dropout\n",
    "from keras.layers import Flatten\n",
    "from keras.layers.convolutional import Conv2D\n",
    "from keras.layers.convolutional import MaxPooling2D\n",
    "from keras.utils import np_utils\n",
    "from keras import backend as K\n",
    "from keras.preprocessing.image import ImageDataGenerator\n",
    "K.set_image_dim_ordering('tf')\n",
    "# fix random seed for reproducibility\n",
    "seed = 7\n",
    "np.random.seed(seed)"
   ]
  },
  {
   "cell_type": "code",
   "execution_count": 2,
   "metadata": {},
   "outputs": [],
   "source": [
    "# define convolution neural network\n",
    "def cnn_model():\n",
    "\t# create model\n",
    "\tmodel = Sequential()\n",
    "\tmodel.add(Conv2D(30, (7, 7), input_shape=(200, 200, 3), activation='relu'))\n",
    "\tmodel.add(MaxPooling2D(pool_size=(2, 2)))\n",
    "\tmodel.add(Conv2D(30, (5, 5), input_shape=(200, 200, 3), activation='relu'))\n",
    "\tmodel.add(MaxPooling2D(pool_size=(2, 2)))\n",
    "\tmodel.add(Conv2D(15, (3, 3), activation='relu'))\n",
    "\tmodel.add(MaxPooling2D(pool_size=(2, 2)))\n",
    "\tmodel.add(Dropout(0.2))\n",
    "\tmodel.add(Flatten())\n",
    "\tmodel.add(Dense(128, activation='relu'))\n",
    "\tmodel.add(Dense(50, activation='relu'))\n",
    "\tmodel.add(Dense(2, activation='softmax'))\n",
    "\t# Compile model\n",
    "\tmodel.compile(loss='categorical_crossentropy', optimizer='adam', metrics=['accuracy'])\n",
    "\treturn model"
   ]
  },
  {
   "cell_type": "code",
   "execution_count": 3,
   "metadata": {},
   "outputs": [
    {
     "name": "stdout",
     "output_type": "stream",
     "text": [
      "Found 2000 images belonging to 2 classes.\n",
      "Found 1200 images belonging to 2 classes.\n"
     ]
    }
   ],
   "source": [
    "#Using ImageDataGenerator to augment input data\n",
    "train_datagen = ImageDataGenerator(\n",
    "        rescale=1./255,\n",
    "        shear_range=0.2,\n",
    "        zoom_range=0.2,\n",
    "        horizontal_flip=True)\n",
    "\n",
    "test_datagen = ImageDataGenerator(rescale=1./255)\n",
    "\n",
    "#Creating generators for input and validation data\n",
    "train_generator = train_datagen.flow_from_directory(\n",
    "        'data/train',\n",
    "        target_size=(200, 200),\n",
    "        batch_size=32,\n",
    "        class_mode='categorical')\n",
    "\n",
    "validation_generator = test_datagen.flow_from_directory(\n",
    "        'data/validation',\n",
    "        target_size=(200, 200z\n",
    "        batch_size=32,\n",
    "        class_mode='categorical')"
   ]
  },
  {
   "cell_type": "code",
   "execution_count": 4,
   "metadata": {
    "scrolled": false
   },
   "outputs": [
    {
     "name": "stdout",
     "output_type": "stream",
     "text": [
      "Epoch 1/50\n",
      "63/63 [==============================] - 138s 2s/step - loss: 0.3132 - acc: 0.8711 - val_loss: 0.1909 - val_acc: 0.9325\n",
      "Epoch 2/50\n",
      "63/63 [==============================] - 27s 427ms/step - loss: 0.2640 - acc: 0.9013 - val_loss: 0.3798 - val_acc: 0.8058\n",
      "Epoch 3/50\n",
      "63/63 [==============================] - 27s 428ms/step - loss: 0.1612 - acc: 0.9400 - val_loss: 0.1259 - val_acc: 0.9592\n",
      "Epoch 4/50\n",
      "63/63 [==============================] - 27s 428ms/step - loss: 0.1719 - acc: 0.9320 - val_loss: 0.1535 - val_acc: 0.9383\n",
      "Epoch 5/50\n",
      "63/63 [==============================] - 27s 428ms/step - loss: 0.0889 - acc: 0.9717 - val_loss: 0.0976 - val_acc: 0.9658\n",
      "Epoch 6/50\n",
      "63/63 [==============================] - 27s 431ms/step - loss: 0.0681 - acc: 0.9747 - val_loss: 0.1330 - val_acc: 0.9642\n",
      "Epoch 7/50\n",
      "63/63 [==============================] - 27s 434ms/step - loss: 0.0693 - acc: 0.9742 - val_loss: 0.0894 - val_acc: 0.9692\n",
      "Epoch 8/50\n",
      "63/63 [==============================] - 27s 431ms/step - loss: 0.0439 - acc: 0.9841 - val_loss: 0.0938 - val_acc: 0.9692\n",
      "Epoch 9/50\n",
      "63/63 [==============================] - 28s 450ms/step - loss: 0.0650 - acc: 0.9811 - val_loss: 0.1210 - val_acc: 0.9650\n",
      "Epoch 10/50\n",
      "63/63 [==============================] - 28s 448ms/step - loss: 0.0598 - acc: 0.9757 - val_loss: 0.0782 - val_acc: 0.9767\n",
      "Epoch 11/50\n",
      "63/63 [==============================] - 29s 463ms/step - loss: 0.1072 - acc: 0.9598 - val_loss: 0.1000 - val_acc: 0.9600\n",
      "Epoch 12/50\n",
      "63/63 [==============================] - 29s 458ms/step - loss: 0.0707 - acc: 0.9752 - val_loss: 0.1054 - val_acc: 0.9692\n",
      "Epoch 13/50\n",
      "63/63 [==============================] - 28s 437ms/step - loss: 0.0429 - acc: 0.9831 - val_loss: 0.0925 - val_acc: 0.9775\n",
      "Epoch 14/50\n",
      "63/63 [==============================] - 27s 434ms/step - loss: 0.0337 - acc: 0.9871 - val_loss: 0.0783 - val_acc: 0.9733\n",
      "Epoch 15/50\n",
      "63/63 [==============================] - 28s 437ms/step - loss: 0.0362 - acc: 0.9896 - val_loss: 0.0709 - val_acc: 0.9800\n",
      "Epoch 16/50\n",
      "63/63 [==============================] - 27s 433ms/step - loss: 0.0356 - acc: 0.9861 - val_loss: 0.1539 - val_acc: 0.9575\n",
      "Epoch 17/50\n",
      "63/63 [==============================] - 28s 439ms/step - loss: 0.1003 - acc: 0.9653 - val_loss: 0.1060 - val_acc: 0.9617\n",
      "Epoch 18/50\n",
      "63/63 [==============================] - 28s 442ms/step - loss: 0.0618 - acc: 0.9752 - val_loss: 0.0549 - val_acc: 0.9808\n",
      "Epoch 19/50\n",
      "63/63 [==============================] - 27s 436ms/step - loss: 0.0336 - acc: 0.9881 - val_loss: 0.1126 - val_acc: 0.9633\n",
      "Epoch 20/50\n",
      "63/63 [==============================] - 27s 431ms/step - loss: 0.0373 - acc: 0.9851 - val_loss: 0.0911 - val_acc: 0.9758\n",
      "Epoch 21/50\n",
      "63/63 [==============================] - 28s 437ms/step - loss: 0.0298 - acc: 0.9891 - val_loss: 0.0487 - val_acc: 0.9833\n",
      "Epoch 22/50\n",
      "63/63 [==============================] - 27s 435ms/step - loss: 0.0151 - acc: 0.9950 - val_loss: 0.1070 - val_acc: 0.9708\n",
      "Epoch 23/50\n",
      "63/63 [==============================] - 27s 432ms/step - loss: 0.0310 - acc: 0.9886 - val_loss: 0.0984 - val_acc: 0.9658\n",
      "Epoch 24/50\n",
      "63/63 [==============================] - 27s 434ms/step - loss: 0.0198 - acc: 0.9916 - val_loss: 0.0758 - val_acc: 0.9825\n",
      "Epoch 25/50\n",
      "63/63 [==============================] - 28s 440ms/step - loss: 0.0114 - acc: 0.9960 - val_loss: 0.0756 - val_acc: 0.9800\n",
      "Epoch 26/50\n",
      "63/63 [==============================] - 28s 443ms/step - loss: 0.0191 - acc: 0.9926 - val_loss: 0.0924 - val_acc: 0.9692\n",
      "Epoch 27/50\n",
      "63/63 [==============================] - 27s 434ms/step - loss: 0.0253 - acc: 0.9901 - val_loss: 0.0764 - val_acc: 0.9783\n",
      "Epoch 28/50\n",
      "63/63 [==============================] - 27s 432ms/step - loss: 0.0211 - acc: 0.9916 - val_loss: 0.0876 - val_acc: 0.9792\n",
      "Epoch 29/50\n",
      "63/63 [==============================] - 27s 434ms/step - loss: 0.0318 - acc: 0.9856 - val_loss: 0.0655 - val_acc: 0.9808\n",
      "Epoch 30/50\n",
      "63/63 [==============================] - 27s 434ms/step - loss: 0.0566 - acc: 0.9787 - val_loss: 0.0999 - val_acc: 0.9742\n",
      "Epoch 31/50\n",
      "63/63 [==============================] - 27s 435ms/step - loss: 0.0232 - acc: 0.9891 - val_loss: 0.1199 - val_acc: 0.9783\n",
      "Epoch 32/50\n",
      "63/63 [==============================] - 27s 428ms/step - loss: 0.0348 - acc: 0.9891 - val_loss: 0.0766 - val_acc: 0.9833\n",
      "Epoch 33/50\n",
      "63/63 [==============================] - 27s 435ms/step - loss: 0.0332 - acc: 0.9896 - val_loss: 0.1013 - val_acc: 0.9667\n",
      "Epoch 34/50\n",
      "63/63 [==============================] - 27s 436ms/step - loss: 0.0195 - acc: 0.9931 - val_loss: 0.1471 - val_acc: 0.9658\n",
      "Epoch 35/50\n",
      "63/63 [==============================] - 27s 436ms/step - loss: 0.0276 - acc: 0.9911 - val_loss: 0.0788 - val_acc: 0.9808\n",
      "Epoch 36/50\n",
      "63/63 [==============================] - 27s 433ms/step - loss: 0.0125 - acc: 0.9936 - val_loss: 0.0946 - val_acc: 0.9750\n",
      "Epoch 37/50\n",
      "63/63 [==============================] - 27s 430ms/step - loss: 0.0347 - acc: 0.9866 - val_loss: 0.1023 - val_acc: 0.9692\n",
      "Epoch 38/50\n",
      "63/63 [==============================] - 27s 432ms/step - loss: 0.0211 - acc: 0.9945 - val_loss: 0.0630 - val_acc: 0.9842\n",
      "Epoch 39/50\n",
      "63/63 [==============================] - 27s 432ms/step - loss: 0.0159 - acc: 0.9945 - val_loss: 0.0814 - val_acc: 0.9833\n",
      "Epoch 40/50\n",
      "63/63 [==============================] - 27s 433ms/step - loss: 0.0116 - acc: 0.9936 - val_loss: 0.0627 - val_acc: 0.9808\n",
      "Epoch 41/50\n",
      "63/63 [==============================] - 27s 431ms/step - loss: 0.0055 - acc: 0.9980 - val_loss: 0.0780 - val_acc: 0.9842\n",
      "Epoch 42/50\n",
      "63/63 [==============================] - 27s 434ms/step - loss: 0.0315 - acc: 0.9911 - val_loss: 0.0487 - val_acc: 0.9817\n",
      "Epoch 43/50\n",
      "63/63 [==============================] - 27s 433ms/step - loss: 0.0075 - acc: 0.9975 - val_loss: 0.0683 - val_acc: 0.9850\n",
      "Epoch 44/50\n",
      "63/63 [==============================] - 27s 429ms/step - loss: 0.0133 - acc: 0.9965 - val_loss: 0.0497 - val_acc: 0.9858\n",
      "Epoch 45/50\n",
      "63/63 [==============================] - 27s 431ms/step - loss: 0.0072 - acc: 0.9980 - val_loss: 0.0897 - val_acc: 0.9825\n",
      "Epoch 46/50\n",
      "63/63 [==============================] - 28s 438ms/step - loss: 0.0148 - acc: 0.9940 - val_loss: 0.0661 - val_acc: 0.9817\n",
      "Epoch 47/50\n",
      "63/63 [==============================] - 27s 430ms/step - loss: 0.0463 - acc: 0.9836 - val_loss: 0.1087 - val_acc: 0.9750\n",
      "Epoch 48/50\n",
      "63/63 [==============================] - 27s 436ms/step - loss: 0.0310 - acc: 0.9911 - val_loss: 0.0609 - val_acc: 0.9875\n",
      "Epoch 49/50\n",
      "63/63 [==============================] - 27s 432ms/step - loss: 0.0200 - acc: 0.9931 - val_loss: 0.0848 - val_acc: 0.9775\n",
      "Epoch 50/50\n",
      "63/63 [==============================] - 27s 435ms/step - loss: 0.0316 - acc: 0.9881 - val_loss: 0.0605 - val_acc: 0.9858\n"
     ]
    },
    {
     "data": {
      "text/plain": [
       "<keras.callbacks.History at 0x7fb654b3f710>"
      ]
     },
     "execution_count": 4,
     "metadata": {},
     "output_type": "execute_result"
    }
   ],
   "source": [
    "model = cnn_model()\n",
    "model.fit_generator(\n",
    "        train_generator,\n",
    "        epochs=50,\n",
    "        validation_data=validation_generator)"
   ]
  },
  {
   "cell_type": "code",
   "execution_count": 41,
   "metadata": {},
   "outputs": [],
   "source": [
    "import os\n",
    "import cv2\n",
    "def load_image(path):\n",
    "    img = cv2.imread(path)\n",
    "    img = cv2.cvtColor(img,cv2.COLOR_BGR2RGB)\n",
    "    img = cv2.resize(img,(200,200))\n",
    "    return img"
   ]
  },
  {
   "cell_type": "code",
   "execution_count": 42,
   "metadata": {},
   "outputs": [],
   "source": [
    "def generator(path,batch_size):\n",
    "    image_names = os.listdir(path)\n",
    "    i = 0\n",
    "    while(True):\n",
    "        if(i>len(image_names)-batch_size-1):\n",
    "            i = 0\n",
    "            np.random.shuffle(image_names)\n",
    "        imagebatch = list()\n",
    "        for j in range(i,i+batch_size):\n",
    "            path_curr_image = os.path.join(path,image_names[j])\n",
    "            imagebatch.append(load_image(path_curr_image))\n",
    "        yield np.array(imagebatch),np.ones(len(imagebatch))"
   ]
  },
  {
   "cell_type": "code",
   "execution_count": 50,
   "metadata": {},
   "outputs": [
    {
     "name": "stdout",
     "output_type": "stream",
     "text": [
      "\r",
      "1/1 [==============================] - 2s 2s/step\n"
     ]
    }
   ],
   "source": [
    "image_gen = generator('data/train2.0/back_hand',100)\n",
    "result = model.predict_generator(image_gen,verbose=1,steps=1)"
   ]
  },
  {
   "cell_type": "code",
   "execution_count": 51,
   "metadata": {},
   "outputs": [
    {
     "name": "stdout",
     "output_type": "stream",
     "text": [
      "[[1.0000000e+00 0.0000000e+00]\n",
      " [2.3492453e-25 1.0000000e+00]\n",
      " [0.0000000e+00 1.0000000e+00]\n",
      " [1.0000000e+00 0.0000000e+00]\n",
      " [1.0000000e+00 0.0000000e+00]\n",
      " [1.0000000e+00 0.0000000e+00]\n",
      " [1.0000000e+00 0.0000000e+00]\n",
      " [1.0000000e+00 0.0000000e+00]\n",
      " [1.0000000e+00 0.0000000e+00]\n",
      " [0.0000000e+00 1.0000000e+00]\n",
      " [1.0000000e+00 0.0000000e+00]\n",
      " [1.0000000e+00 0.0000000e+00]\n",
      " [1.0000000e+00 0.0000000e+00]\n",
      " [1.0000000e+00 0.0000000e+00]\n",
      " [0.0000000e+00 1.0000000e+00]\n",
      " [1.0000000e+00 0.0000000e+00]\n",
      " [1.0000000e+00 0.0000000e+00]\n",
      " [1.0000000e+00 0.0000000e+00]\n",
      " [1.0000000e+00 0.0000000e+00]\n",
      " [0.0000000e+00 1.0000000e+00]\n",
      " [1.0000000e+00 0.0000000e+00]\n",
      " [1.0000000e+00 0.0000000e+00]\n",
      " [0.0000000e+00 1.0000000e+00]\n",
      " [1.0000000e+00 0.0000000e+00]\n",
      " [0.0000000e+00 1.0000000e+00]\n",
      " [1.0000000e+00 0.0000000e+00]\n",
      " [1.0000000e+00 0.0000000e+00]\n",
      " [1.0000000e+00 0.0000000e+00]\n",
      " [1.0000000e+00 0.0000000e+00]\n",
      " [1.0000000e+00 0.0000000e+00]\n",
      " [1.0000000e+00 0.0000000e+00]\n",
      " [1.0000000e+00 0.0000000e+00]\n",
      " [1.0000000e+00 0.0000000e+00]\n",
      " [1.0000000e+00 0.0000000e+00]\n",
      " [1.0000000e+00 0.0000000e+00]\n",
      " [1.0000000e+00 0.0000000e+00]\n",
      " [1.0000000e+00 0.0000000e+00]\n",
      " [1.0000000e+00 0.0000000e+00]\n",
      " [1.0000000e+00 0.0000000e+00]\n",
      " [1.0000000e+00 0.0000000e+00]\n",
      " [1.0000000e+00 0.0000000e+00]\n",
      " [1.0000000e+00 0.0000000e+00]\n",
      " [1.0000000e+00 0.0000000e+00]\n",
      " [1.0000000e+00 0.0000000e+00]\n",
      " [1.0000000e+00 0.0000000e+00]\n",
      " [1.0000000e+00 0.0000000e+00]\n",
      " [1.0000000e+00 0.0000000e+00]\n",
      " [0.0000000e+00 1.0000000e+00]\n",
      " [1.0000000e+00 0.0000000e+00]\n",
      " [0.0000000e+00 1.0000000e+00]\n",
      " [1.0000000e+00 0.0000000e+00]\n",
      " [0.0000000e+00 1.0000000e+00]\n",
      " [1.0000000e+00 0.0000000e+00]\n",
      " [1.0000000e+00 0.0000000e+00]\n",
      " [1.0000000e+00 0.0000000e+00]\n",
      " [1.0000000e+00 0.0000000e+00]\n",
      " [1.0000000e+00 0.0000000e+00]\n",
      " [1.0000000e+00 0.0000000e+00]\n",
      " [1.0000000e+00 0.0000000e+00]\n",
      " [1.0000000e+00 0.0000000e+00]\n",
      " [1.0000000e+00 0.0000000e+00]\n",
      " [1.0000000e+00 0.0000000e+00]\n",
      " [0.0000000e+00 1.0000000e+00]\n",
      " [1.0000000e+00 0.0000000e+00]\n",
      " [1.0000000e+00 0.0000000e+00]\n",
      " [1.0000000e+00 0.0000000e+00]\n",
      " [1.0000000e+00 0.0000000e+00]\n",
      " [1.0000000e+00 0.0000000e+00]\n",
      " [1.0000000e+00 0.0000000e+00]\n",
      " [1.0000000e+00 0.0000000e+00]\n",
      " [5.4179684e-21 1.0000000e+00]\n",
      " [1.0000000e+00 0.0000000e+00]\n",
      " [1.0000000e+00 0.0000000e+00]\n",
      " [1.0000000e+00 0.0000000e+00]\n",
      " [1.0000000e+00 0.0000000e+00]\n",
      " [1.0000000e+00 0.0000000e+00]\n",
      " [1.0000000e+00 0.0000000e+00]\n",
      " [1.0000000e+00 0.0000000e+00]\n",
      " [0.0000000e+00 1.0000000e+00]\n",
      " [1.0000000e+00 0.0000000e+00]\n",
      " [0.0000000e+00 1.0000000e+00]\n",
      " [0.0000000e+00 1.0000000e+00]\n",
      " [1.0000000e+00 0.0000000e+00]\n",
      " [1.0000000e+00 0.0000000e+00]\n",
      " [0.0000000e+00 1.0000000e+00]\n",
      " [1.0000000e+00 0.0000000e+00]\n",
      " [1.0000000e+00 0.0000000e+00]\n",
      " [1.0000000e+00 0.0000000e+00]\n",
      " [0.0000000e+00 1.0000000e+00]\n",
      " [1.0000000e+00 0.0000000e+00]\n",
      " [1.0000000e+00 0.0000000e+00]\n",
      " [1.0000000e+00 0.0000000e+00]\n",
      " [1.0000000e+00 0.0000000e+00]\n",
      " [5.4179684e-21 1.0000000e+00]\n",
      " [1.0000000e+00 0.0000000e+00]\n",
      " [1.0000000e+00 0.0000000e+00]\n",
      " [0.0000000e+00 1.0000000e+00]\n",
      " [1.0000000e+00 0.0000000e+00]\n",
      " [1.0000000e+00 0.0000000e+00]\n",
      " [0.0000000e+00 1.0000000e+00]]\n"
     ]
    }
   ],
   "source": [
    "print(result)"
   ]
  },
  {
   "cell_type": "code",
   "execution_count": 56,
   "metadata": {},
   "outputs": [
    {
     "name": "stdout",
     "output_type": "stream",
     "text": [
      "[0.8 0.2]\n"
     ]
    }
   ],
   "source": [
    "print(np.average(result,axis=0))"
   ]
  },
  {
   "cell_type": "code",
   "execution_count": null,
   "metadata": {},
   "outputs": [],
   "source": []
  }
 ],
 "metadata": {
  "kernelspec": {
   "display_name": "Python 3",
   "language": "python",
   "name": "python3"
  },
  "language_info": {
   "codemirror_mode": {
    "name": "ipython",
    "version": 3
   },
   "file_extension": ".py",
   "mimetype": "text/x-python",
   "name": "python",
   "nbconvert_exporter": "python",
   "pygments_lexer": "ipython3",
   "version": "3.6.4"
  }
 },
 "nbformat": 4,
 "nbformat_minor": 2
}
