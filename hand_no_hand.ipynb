{
 "cells": [
  {
   "cell_type": "code",
   "execution_count": 23,
   "metadata": {},
   "outputs": [],
   "source": [
    "#importing required packages\n",
    "import numpy as np\n",
    "from keras.models import Sequential\n",
    "from keras.layers import Dense\n",
    "from keras.layers import Flatten\n",
    "from keras.layers import Dropout\n",
    "from keras.layers.convolutional import Conv2D\n",
    "from keras.layers.convolutional import MaxPooling2D\n",
    "from keras.utils import np_utils\n",
    "from keras.preprocessing.image import ImageDataGenerator\n",
    "from keras import backend as K\n",
    "#using tensorflow image dimension ordering\n",
    "K.set_image_dim_ordering('tf')\n",
    "#setting seed for reproducibility\n",
    "np.random.seed(7)"
   ]
  },
  {
   "cell_type": "code",
   "execution_count": 24,
   "metadata": {},
   "outputs": [],
   "source": [
    "#creating ImageDataGenerator instance to augment dataset\n",
    "train_datagen = ImageDataGenerator(\n",
    "    rescale = 1./255,\n",
    "    rotation_range = 70,\n",
    "    width_shift_range = 0.2,\n",
    "    height_shift_range = 0.2,\n",
    "    shear_range = 0.2,\n",
    "    zoom_range = 0.2,\n",
    "    horizontal_flip = True)\n",
    "\n",
    "test_datagen = ImageDataGenerator(rescale=1./255)"
   ]
  },
  {
   "cell_type": "code",
   "execution_count": 25,
   "metadata": {},
   "outputs": [
    {
     "name": "stdout",
     "output_type": "stream",
     "text": [
      "Found 2000 images belonging to 2 classes.\n",
      "Found 1200 images belonging to 2 classes.\n"
     ]
    }
   ],
   "source": [
    "#creating generators for data\n",
    "train_generator = train_datagen.flow_from_directory(\n",
    "    'data/train',\n",
    "    target_size = (200,200),\n",
    "    batch_size =32,\n",
    "    class_mode = 'categorical')\n",
    "\n",
    "validation_generator = test_datagen.flow_from_directory(\n",
    "        'data/validation',\n",
    "        target_size=(200, 200),\n",
    "        batch_size=32,\n",
    "        class_mode='categorical')"
   ]
  },
  {
   "cell_type": "code",
   "execution_count": 26,
   "metadata": {},
   "outputs": [],
   "source": [
    "#CNN model for classification\n",
    "def cnn_model():\n",
    "    model = Sequential()\n",
    "    model.add(Conv2D(30, (7, 7), input_shape=(200, 200, 3), activation='relu'))\n",
    "    model.add(MaxPooling2D(pool_size=(2, 2)))\n",
    "    model.add(Conv2D(15, (5, 5), activation='relu'))\n",
    "    model.add(MaxPooling2D(pool_size=(2, 2)))\n",
    "    model.add(Conv2D(10, (3, 3), activation='relu'))\n",
    "    model.add(MaxPooling2D(pool_size=(2, 2)))\n",
    "    model.add(Dropout(0.2))\n",
    "    model.add(Flatten())\n",
    "    model.add(Dense(128, activation='relu'))\n",
    "    model.add(Dense(50, activation='relu'))\n",
    "    model.add(Dense(2, activation='softmax'))\n",
    "    model.compile(loss='categorical_crossentropy', optimizer='adam', metrics=['accuracy'])\n",
    "    return model"
   ]
  },
  {
   "cell_type": "code",
   "execution_count": 29,
   "metadata": {
    "scrolled": false
   },
   "outputs": [
    {
     "name": "stdout",
     "output_type": "stream",
     "text": [
      "Epoch 1/50\n",
      "63/63 [==============================] - 29s 459ms/step - loss: 0.5343 - acc: 0.7307 - val_loss: 0.3655 - val_acc: 0.8517\n",
      "Epoch 2/50\n",
      "63/63 [==============================] - 25s 397ms/step - loss: 0.3955 - acc: 0.8299 - val_loss: 0.4591 - val_acc: 0.8158\n",
      "Epoch 3/50\n",
      "63/63 [==============================] - 25s 398ms/step - loss: 0.3509 - acc: 0.8477 - val_loss: 0.3220 - val_acc: 0.8517\n",
      "Epoch 4/50\n",
      "63/63 [==============================] - 25s 398ms/step - loss: 0.2821 - acc: 0.8814 - val_loss: 0.1854 - val_acc: 0.9150\n",
      "Epoch 5/50\n",
      "63/63 [==============================] - 25s 401ms/step - loss: 0.2460 - acc: 0.8993 - val_loss: 0.1791 - val_acc: 0.9217\n",
      "Epoch 6/50\n",
      "63/63 [==============================] - 29s 453ms/step - loss: 0.2011 - acc: 0.9226 - val_loss: 0.1772 - val_acc: 0.9317\n",
      "Epoch 7/50\n",
      "63/63 [==============================] - 25s 401ms/step - loss: 0.1827 - acc: 0.9281 - val_loss: 0.1955 - val_acc: 0.9075\n",
      "Epoch 8/50\n",
      "63/63 [==============================] - 27s 433ms/step - loss: 0.1791 - acc: 0.9335 - val_loss: 0.1138 - val_acc: 0.9567\n",
      "Epoch 9/50\n",
      "63/63 [==============================] - 27s 427ms/step - loss: 0.1497 - acc: 0.9444 - val_loss: 0.1657 - val_acc: 0.9258\n",
      "Epoch 10/50\n",
      "63/63 [==============================] - 27s 434ms/step - loss: 0.1981 - acc: 0.9231 - val_loss: 0.2560 - val_acc: 0.8817\n",
      "Epoch 11/50\n",
      "63/63 [==============================] - 27s 433ms/step - loss: 0.1621 - acc: 0.9370 - val_loss: 0.0999 - val_acc: 0.9608\n",
      "Epoch 12/50\n",
      "63/63 [==============================] - 29s 453ms/step - loss: 0.1357 - acc: 0.9464 - val_loss: 0.0860 - val_acc: 0.9733\n",
      "Epoch 13/50\n",
      "63/63 [==============================] - 27s 430ms/step - loss: 0.1139 - acc: 0.9593 - val_loss: 0.1215 - val_acc: 0.9508\n",
      "Epoch 14/50\n",
      "63/63 [==============================] - 27s 431ms/step - loss: 0.1424 - acc: 0.9464 - val_loss: 0.2167 - val_acc: 0.9067\n",
      "Epoch 15/50\n",
      "63/63 [==============================] - 29s 455ms/step - loss: 0.1526 - acc: 0.9405 - val_loss: 0.0983 - val_acc: 0.9642\n",
      "Epoch 16/50\n",
      "63/63 [==============================] - 27s 428ms/step - loss: 0.1176 - acc: 0.9534 - val_loss: 0.1042 - val_acc: 0.9600\n",
      "Epoch 17/50\n",
      "63/63 [==============================] - 27s 432ms/step - loss: 0.1120 - acc: 0.9554 - val_loss: 0.0964 - val_acc: 0.9617\n",
      "Epoch 18/50\n",
      "63/63 [==============================] - 27s 433ms/step - loss: 0.1136 - acc: 0.9568 - val_loss: 0.0789 - val_acc: 0.9742\n",
      "Epoch 19/50\n",
      "63/63 [==============================] - 29s 454ms/step - loss: 0.1116 - acc: 0.9613 - val_loss: 0.1033 - val_acc: 0.9700\n",
      "Epoch 20/50\n",
      "63/63 [==============================] - 27s 427ms/step - loss: 0.1049 - acc: 0.9638 - val_loss: 0.0920 - val_acc: 0.9642\n",
      "Epoch 21/50\n",
      "63/63 [==============================] - 27s 427ms/step - loss: 0.1063 - acc: 0.9658 - val_loss: 0.1292 - val_acc: 0.9500\n",
      "Epoch 22/50\n",
      "63/63 [==============================] - 28s 452ms/step - loss: 0.1260 - acc: 0.9559 - val_loss: 0.0873 - val_acc: 0.9675\n",
      "Epoch 23/50\n",
      "63/63 [==============================] - 29s 463ms/step - loss: 0.1021 - acc: 0.9653 - val_loss: 0.1269 - val_acc: 0.9517\n",
      "Epoch 24/50\n",
      "63/63 [==============================] - 28s 437ms/step - loss: 0.1141 - acc: 0.9563 - val_loss: 0.0886 - val_acc: 0.9708\n",
      "Epoch 25/50\n",
      "63/63 [==============================] - 27s 426ms/step - loss: 0.1024 - acc: 0.9613 - val_loss: 0.1418 - val_acc: 0.9450\n",
      "Epoch 26/50\n",
      "63/63 [==============================] - 28s 448ms/step - loss: 0.1107 - acc: 0.9578 - val_loss: 0.1582 - val_acc: 0.9458\n",
      "Epoch 27/50\n",
      "63/63 [==============================] - 27s 429ms/step - loss: 0.1288 - acc: 0.9479 - val_loss: 0.0674 - val_acc: 0.9767\n",
      "Epoch 28/50\n",
      "63/63 [==============================] - 27s 426ms/step - loss: 0.0787 - acc: 0.9717 - val_loss: 0.0753 - val_acc: 0.9733\n",
      "Epoch 29/50\n",
      "63/63 [==============================] - 29s 455ms/step - loss: 0.0839 - acc: 0.9712 - val_loss: 0.0817 - val_acc: 0.9708\n",
      "Epoch 30/50\n",
      "63/63 [==============================] - 27s 430ms/step - loss: 0.0845 - acc: 0.9722 - val_loss: 0.1747 - val_acc: 0.9308\n",
      "Epoch 31/50\n",
      "63/63 [==============================] - 28s 452ms/step - loss: 0.0976 - acc: 0.9623 - val_loss: 0.0726 - val_acc: 0.9783\n",
      "Epoch 32/50\n",
      "63/63 [==============================] - 29s 457ms/step - loss: 0.0759 - acc: 0.9707 - val_loss: 0.0886 - val_acc: 0.9700\n",
      "Epoch 33/50\n",
      "63/63 [==============================] - 29s 453ms/step - loss: 0.0815 - acc: 0.9697 - val_loss: 0.0943 - val_acc: 0.9633\n",
      "Epoch 34/50\n",
      "63/63 [==============================] - 27s 427ms/step - loss: 0.0830 - acc: 0.9678 - val_loss: 0.0730 - val_acc: 0.9717\n",
      "Epoch 35/50\n",
      "63/63 [==============================] - 27s 430ms/step - loss: 0.0771 - acc: 0.9683 - val_loss: 0.0621 - val_acc: 0.9817\n",
      "Epoch 36/50\n",
      "63/63 [==============================] - 27s 436ms/step - loss: 0.0581 - acc: 0.9772 - val_loss: 0.0576 - val_acc: 0.9825\n",
      "Epoch 37/50\n",
      "63/63 [==============================] - 28s 447ms/step - loss: 0.0692 - acc: 0.9697 - val_loss: 0.1354 - val_acc: 0.9458\n",
      "Epoch 38/50\n",
      "63/63 [==============================] - 29s 454ms/step - loss: 0.0965 - acc: 0.9638 - val_loss: 0.0970 - val_acc: 0.9642\n",
      "Epoch 39/50\n",
      "63/63 [==============================] - 27s 432ms/step - loss: 0.0685 - acc: 0.9737 - val_loss: 0.0539 - val_acc: 0.9817\n",
      "Epoch 40/50\n",
      "63/63 [==============================] - 27s 430ms/step - loss: 0.0868 - acc: 0.9697 - val_loss: 0.1657 - val_acc: 0.9317\n",
      "Epoch 41/50\n",
      "63/63 [==============================] - 28s 451ms/step - loss: 0.0998 - acc: 0.9633 - val_loss: 0.0731 - val_acc: 0.9733\n",
      "Epoch 42/50\n",
      "63/63 [==============================] - 29s 458ms/step - loss: 0.0775 - acc: 0.9702 - val_loss: 0.0711 - val_acc: 0.9783\n",
      "Epoch 43/50\n",
      "63/63 [==============================] - 29s 461ms/step - loss: 0.0790 - acc: 0.9658 - val_loss: 0.0684 - val_acc: 0.9717\n",
      "Epoch 44/50\n",
      "63/63 [==============================] - 27s 429ms/step - loss: 0.0726 - acc: 0.9737 - val_loss: 0.0611 - val_acc: 0.9800\n",
      "Epoch 45/50\n",
      "63/63 [==============================] - 27s 427ms/step - loss: 0.0602 - acc: 0.9772 - val_loss: 0.1214 - val_acc: 0.9508\n",
      "Epoch 46/50\n",
      "63/63 [==============================] - 27s 429ms/step - loss: 0.0859 - acc: 0.9643 - val_loss: 0.0735 - val_acc: 0.9700\n",
      "Epoch 47/50\n",
      "63/63 [==============================] - 28s 452ms/step - loss: 0.0846 - acc: 0.9603 - val_loss: 0.0643 - val_acc: 0.9833\n",
      "Epoch 48/50\n",
      "63/63 [==============================] - 27s 432ms/step - loss: 0.0727 - acc: 0.9747 - val_loss: 0.0628 - val_acc: 0.9775\n",
      "Epoch 49/50\n",
      "63/63 [==============================] - 28s 438ms/step - loss: 0.0720 - acc: 0.9732 - val_loss: 0.0651 - val_acc: 0.9792\n",
      "Epoch 50/50\n",
      "63/63 [==============================] - 30s 471ms/step - loss: 0.0676 - acc: 0.9762 - val_loss: 0.0461 - val_acc: 0.9867\n"
     ]
    },
    {
     "data": {
      "text/plain": [
       "<keras.callbacks.History at 0x7f1f38ae9240>"
      ]
     },
     "execution_count": 29,
     "metadata": {},
     "output_type": "execute_result"
    }
   ],
   "source": [
    "#creating model\n",
    "model = cnn_model()\n",
    "model.fit_generator(\n",
    "        train_generator,\n",
    "        epochs=50,\n",
    "        validation_data=validation_generator)"
   ]
  },
  {
   "cell_type": "code",
   "execution_count": null,
   "metadata": {},
   "outputs": [],
   "source": []
  }
 ],
 "metadata": {
  "kernelspec": {
   "display_name": "Python 3",
   "language": "python",
   "name": "python3"
  },
  "language_info": {
   "codemirror_mode": {
    "name": "ipython",
    "version": 3
   },
   "file_extension": ".py",
   "mimetype": "text/x-python",
   "name": "python",
   "nbconvert_exporter": "python",
   "pygments_lexer": "ipython3",
   "version": "3.6.4"
  }
 },
 "nbformat": 4,
 "nbformat_minor": 2
}
